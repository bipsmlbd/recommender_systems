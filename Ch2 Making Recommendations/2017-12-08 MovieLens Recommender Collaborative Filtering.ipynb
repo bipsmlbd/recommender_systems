{
 "cells": [
  {
   "cell_type": "code",
   "execution_count": 1,
   "metadata": {},
   "outputs": [],
   "source": [
    "import pandas as pd\n",
    "import numpy as np\n",
    "import matplotlib.pyplot as plt\n",
    "from math import sqrt\n",
    "from collections import defaultdict, Counter\n",
    "from sklearn.metrics.pairwise import cosine_similarity\n",
    "from sklearn.metrics import mean_squared_error"
   ]
  },
  {
   "cell_type": "code",
   "execution_count": 2,
   "metadata": {
    "collapsed": true
   },
   "outputs": [],
   "source": [
    "np.random.seed(0)"
   ]
  },
  {
   "cell_type": "markdown",
   "metadata": {},
   "source": [
    "### User information"
   ]
  },
  {
   "cell_type": "code",
   "execution_count": 3,
   "metadata": {},
   "outputs": [
    {
     "data": {
      "text/html": [
       "<div>\n",
       "<style>\n",
       "    .dataframe thead tr:only-child th {\n",
       "        text-align: right;\n",
       "    }\n",
       "\n",
       "    .dataframe thead th {\n",
       "        text-align: left;\n",
       "    }\n",
       "\n",
       "    .dataframe tbody tr th {\n",
       "        vertical-align: top;\n",
       "    }\n",
       "</style>\n",
       "<table border=\"1\" class=\"dataframe\">\n",
       "  <thead>\n",
       "    <tr style=\"text-align: right;\">\n",
       "      <th></th>\n",
       "      <th>age</th>\n",
       "      <th>gender</th>\n",
       "      <th>occupation</th>\n",
       "      <th>zip code</th>\n",
       "    </tr>\n",
       "    <tr>\n",
       "      <th>userid</th>\n",
       "      <th></th>\n",
       "      <th></th>\n",
       "      <th></th>\n",
       "      <th></th>\n",
       "    </tr>\n",
       "  </thead>\n",
       "  <tbody>\n",
       "    <tr>\n",
       "      <th>1</th>\n",
       "      <td>24</td>\n",
       "      <td>M</td>\n",
       "      <td>technician</td>\n",
       "      <td>85711</td>\n",
       "    </tr>\n",
       "    <tr>\n",
       "      <th>2</th>\n",
       "      <td>53</td>\n",
       "      <td>F</td>\n",
       "      <td>other</td>\n",
       "      <td>94043</td>\n",
       "    </tr>\n",
       "    <tr>\n",
       "      <th>3</th>\n",
       "      <td>23</td>\n",
       "      <td>M</td>\n",
       "      <td>writer</td>\n",
       "      <td>32067</td>\n",
       "    </tr>\n",
       "    <tr>\n",
       "      <th>4</th>\n",
       "      <td>24</td>\n",
       "      <td>M</td>\n",
       "      <td>technician</td>\n",
       "      <td>43537</td>\n",
       "    </tr>\n",
       "    <tr>\n",
       "      <th>5</th>\n",
       "      <td>33</td>\n",
       "      <td>F</td>\n",
       "      <td>other</td>\n",
       "      <td>15213</td>\n",
       "    </tr>\n",
       "  </tbody>\n",
       "</table>\n",
       "</div>"
      ],
      "text/plain": [
       "        age gender  occupation zip code\n",
       "userid                                 \n",
       "1        24      M  technician    85711\n",
       "2        53      F       other    94043\n",
       "3        23      M      writer    32067\n",
       "4        24      M  technician    43537\n",
       "5        33      F       other    15213"
      ]
     },
     "execution_count": 3,
     "metadata": {},
     "output_type": "execute_result"
    }
   ],
   "source": [
    "user_cols = ['userid', 'age', 'gender', 'occupation', 'zip code']\n",
    "user_df = pd.read_csv('ml-100k/u.user', sep='|', names=user_cols, encoding='latin-1', index_col='userid')\n",
    "num_users = user_df.shape[0]\n",
    "user_df.head()"
   ]
  },
  {
   "cell_type": "code",
   "execution_count": 4,
   "metadata": {},
   "outputs": [
    {
     "name": "stdout",
     "output_type": "stream",
     "text": [
      "<class 'pandas.core.frame.DataFrame'>\n",
      "Int64Index: 943 entries, 1 to 943\n",
      "Data columns (total 4 columns):\n",
      "age           943 non-null int64\n",
      "gender        943 non-null object\n",
      "occupation    943 non-null object\n",
      "zip code      943 non-null object\n",
      "dtypes: int64(1), object(3)\n",
      "memory usage: 36.8+ KB\n"
     ]
    }
   ],
   "source": [
    "user_df.info()"
   ]
  },
  {
   "cell_type": "markdown",
   "metadata": {},
   "source": [
    "### Movie information"
   ]
  },
  {
   "cell_type": "code",
   "execution_count": 5,
   "metadata": {},
   "outputs": [
    {
     "data": {
      "text/html": [
       "<div>\n",
       "<style>\n",
       "    .dataframe thead tr:only-child th {\n",
       "        text-align: right;\n",
       "    }\n",
       "\n",
       "    .dataframe thead th {\n",
       "        text-align: left;\n",
       "    }\n",
       "\n",
       "    .dataframe tbody tr th {\n",
       "        vertical-align: top;\n",
       "    }\n",
       "</style>\n",
       "<table border=\"1\" class=\"dataframe\">\n",
       "  <thead>\n",
       "    <tr style=\"text-align: right;\">\n",
       "      <th></th>\n",
       "      <th>movie_title</th>\n",
       "      <th>release_date</th>\n",
       "      <th>video_release_date</th>\n",
       "      <th>IMDb_URL</th>\n",
       "      <th>unknown</th>\n",
       "      <th>Action</th>\n",
       "      <th>Adventure</th>\n",
       "      <th>Animation</th>\n",
       "      <th>Childrens</th>\n",
       "      <th>Comedy</th>\n",
       "      <th>...</th>\n",
       "      <th>Fantasy</th>\n",
       "      <th>Film-Noir</th>\n",
       "      <th>Horror</th>\n",
       "      <th>Musical</th>\n",
       "      <th>Mystery</th>\n",
       "      <th>Romance</th>\n",
       "      <th>Sci-Fi</th>\n",
       "      <th>Thriller</th>\n",
       "      <th>War</th>\n",
       "      <th>Western</th>\n",
       "    </tr>\n",
       "    <tr>\n",
       "      <th>movieid</th>\n",
       "      <th></th>\n",
       "      <th></th>\n",
       "      <th></th>\n",
       "      <th></th>\n",
       "      <th></th>\n",
       "      <th></th>\n",
       "      <th></th>\n",
       "      <th></th>\n",
       "      <th></th>\n",
       "      <th></th>\n",
       "      <th></th>\n",
       "      <th></th>\n",
       "      <th></th>\n",
       "      <th></th>\n",
       "      <th></th>\n",
       "      <th></th>\n",
       "      <th></th>\n",
       "      <th></th>\n",
       "      <th></th>\n",
       "      <th></th>\n",
       "      <th></th>\n",
       "    </tr>\n",
       "  </thead>\n",
       "  <tbody>\n",
       "    <tr>\n",
       "      <th>1</th>\n",
       "      <td>Toy Story (1995)</td>\n",
       "      <td>01-Jan-1995</td>\n",
       "      <td>NaN</td>\n",
       "      <td>http://us.imdb.com/M/title-exact?Toy%20Story%2...</td>\n",
       "      <td>0</td>\n",
       "      <td>0</td>\n",
       "      <td>0</td>\n",
       "      <td>1</td>\n",
       "      <td>1</td>\n",
       "      <td>1</td>\n",
       "      <td>...</td>\n",
       "      <td>0</td>\n",
       "      <td>0</td>\n",
       "      <td>0</td>\n",
       "      <td>0</td>\n",
       "      <td>0</td>\n",
       "      <td>0</td>\n",
       "      <td>0</td>\n",
       "      <td>0</td>\n",
       "      <td>0</td>\n",
       "      <td>0</td>\n",
       "    </tr>\n",
       "    <tr>\n",
       "      <th>2</th>\n",
       "      <td>GoldenEye (1995)</td>\n",
       "      <td>01-Jan-1995</td>\n",
       "      <td>NaN</td>\n",
       "      <td>http://us.imdb.com/M/title-exact?GoldenEye%20(...</td>\n",
       "      <td>0</td>\n",
       "      <td>1</td>\n",
       "      <td>1</td>\n",
       "      <td>0</td>\n",
       "      <td>0</td>\n",
       "      <td>0</td>\n",
       "      <td>...</td>\n",
       "      <td>0</td>\n",
       "      <td>0</td>\n",
       "      <td>0</td>\n",
       "      <td>0</td>\n",
       "      <td>0</td>\n",
       "      <td>0</td>\n",
       "      <td>0</td>\n",
       "      <td>1</td>\n",
       "      <td>0</td>\n",
       "      <td>0</td>\n",
       "    </tr>\n",
       "    <tr>\n",
       "      <th>3</th>\n",
       "      <td>Four Rooms (1995)</td>\n",
       "      <td>01-Jan-1995</td>\n",
       "      <td>NaN</td>\n",
       "      <td>http://us.imdb.com/M/title-exact?Four%20Rooms%...</td>\n",
       "      <td>0</td>\n",
       "      <td>0</td>\n",
       "      <td>0</td>\n",
       "      <td>0</td>\n",
       "      <td>0</td>\n",
       "      <td>0</td>\n",
       "      <td>...</td>\n",
       "      <td>0</td>\n",
       "      <td>0</td>\n",
       "      <td>0</td>\n",
       "      <td>0</td>\n",
       "      <td>0</td>\n",
       "      <td>0</td>\n",
       "      <td>0</td>\n",
       "      <td>1</td>\n",
       "      <td>0</td>\n",
       "      <td>0</td>\n",
       "    </tr>\n",
       "    <tr>\n",
       "      <th>4</th>\n",
       "      <td>Get Shorty (1995)</td>\n",
       "      <td>01-Jan-1995</td>\n",
       "      <td>NaN</td>\n",
       "      <td>http://us.imdb.com/M/title-exact?Get%20Shorty%...</td>\n",
       "      <td>0</td>\n",
       "      <td>1</td>\n",
       "      <td>0</td>\n",
       "      <td>0</td>\n",
       "      <td>0</td>\n",
       "      <td>1</td>\n",
       "      <td>...</td>\n",
       "      <td>0</td>\n",
       "      <td>0</td>\n",
       "      <td>0</td>\n",
       "      <td>0</td>\n",
       "      <td>0</td>\n",
       "      <td>0</td>\n",
       "      <td>0</td>\n",
       "      <td>0</td>\n",
       "      <td>0</td>\n",
       "      <td>0</td>\n",
       "    </tr>\n",
       "    <tr>\n",
       "      <th>5</th>\n",
       "      <td>Copycat (1995)</td>\n",
       "      <td>01-Jan-1995</td>\n",
       "      <td>NaN</td>\n",
       "      <td>http://us.imdb.com/M/title-exact?Copycat%20(1995)</td>\n",
       "      <td>0</td>\n",
       "      <td>0</td>\n",
       "      <td>0</td>\n",
       "      <td>0</td>\n",
       "      <td>0</td>\n",
       "      <td>0</td>\n",
       "      <td>...</td>\n",
       "      <td>0</td>\n",
       "      <td>0</td>\n",
       "      <td>0</td>\n",
       "      <td>0</td>\n",
       "      <td>0</td>\n",
       "      <td>0</td>\n",
       "      <td>0</td>\n",
       "      <td>1</td>\n",
       "      <td>0</td>\n",
       "      <td>0</td>\n",
       "    </tr>\n",
       "  </tbody>\n",
       "</table>\n",
       "<p>5 rows × 23 columns</p>\n",
       "</div>"
      ],
      "text/plain": [
       "               movie_title release_date  video_release_date  \\\n",
       "movieid                                                       \n",
       "1         Toy Story (1995)  01-Jan-1995                 NaN   \n",
       "2         GoldenEye (1995)  01-Jan-1995                 NaN   \n",
       "3        Four Rooms (1995)  01-Jan-1995                 NaN   \n",
       "4        Get Shorty (1995)  01-Jan-1995                 NaN   \n",
       "5           Copycat (1995)  01-Jan-1995                 NaN   \n",
       "\n",
       "                                                  IMDb_URL  unknown  Action  \\\n",
       "movieid                                                                       \n",
       "1        http://us.imdb.com/M/title-exact?Toy%20Story%2...        0       0   \n",
       "2        http://us.imdb.com/M/title-exact?GoldenEye%20(...        0       1   \n",
       "3        http://us.imdb.com/M/title-exact?Four%20Rooms%...        0       0   \n",
       "4        http://us.imdb.com/M/title-exact?Get%20Shorty%...        0       1   \n",
       "5        http://us.imdb.com/M/title-exact?Copycat%20(1995)        0       0   \n",
       "\n",
       "         Adventure  Animation  Childrens  Comedy   ...     Fantasy  Film-Noir  \\\n",
       "movieid                                            ...                          \n",
       "1                0          1          1       1   ...           0          0   \n",
       "2                1          0          0       0   ...           0          0   \n",
       "3                0          0          0       0   ...           0          0   \n",
       "4                0          0          0       1   ...           0          0   \n",
       "5                0          0          0       0   ...           0          0   \n",
       "\n",
       "         Horror  Musical  Mystery  Romance   Sci-Fi  Thriller  War  Western  \n",
       "movieid                                                                      \n",
       "1             0        0        0         0       0         0    0        0  \n",
       "2             0        0        0         0       0         1    0        0  \n",
       "3             0        0        0         0       0         1    0        0  \n",
       "4             0        0        0         0       0         0    0        0  \n",
       "5             0        0        0         0       0         1    0        0  \n",
       "\n",
       "[5 rows x 23 columns]"
      ]
     },
     "execution_count": 5,
     "metadata": {},
     "output_type": "execute_result"
    }
   ],
   "source": [
    "movie_cols = ['movieid', 'movie_title', 'release_date', 'video_release_date', 'IMDb_URL', 'unknown', 'Action', 'Adventure', \n",
    "             'Animation', 'Childrens', 'Comedy', 'Crime', 'Documentary', 'Drama', 'Fantasy', 'Film-Noir', 'Horror',\n",
    "             'Musical', 'Mystery', 'Romance ', 'Sci-Fi', 'Thriller', 'War', 'Western']\n",
    "movie_df = pd.read_csv('ml-100k/u.item', sep='|', names=movie_cols, encoding='latin-1', index_col='movieid')\n",
    "num_movies = movie_df.shape[0]\n",
    "movie_df.head()"
   ]
  },
  {
   "cell_type": "code",
   "execution_count": 6,
   "metadata": {},
   "outputs": [
    {
     "name": "stdout",
     "output_type": "stream",
     "text": [
      "<class 'pandas.core.frame.DataFrame'>\n",
      "Int64Index: 1682 entries, 1 to 1682\n",
      "Data columns (total 23 columns):\n",
      "movie_title           1682 non-null object\n",
      "release_date          1681 non-null object\n",
      "video_release_date    0 non-null float64\n",
      "IMDb_URL              1679 non-null object\n",
      "unknown               1682 non-null int64\n",
      "Action                1682 non-null int64\n",
      "Adventure             1682 non-null int64\n",
      "Animation             1682 non-null int64\n",
      "Childrens             1682 non-null int64\n",
      "Comedy                1682 non-null int64\n",
      "Crime                 1682 non-null int64\n",
      "Documentary           1682 non-null int64\n",
      "Drama                 1682 non-null int64\n",
      "Fantasy               1682 non-null int64\n",
      "Film-Noir             1682 non-null int64\n",
      "Horror                1682 non-null int64\n",
      "Musical               1682 non-null int64\n",
      "Mystery               1682 non-null int64\n",
      "Romance               1682 non-null int64\n",
      "Sci-Fi                1682 non-null int64\n",
      "Thriller              1682 non-null int64\n",
      "War                   1682 non-null int64\n",
      "Western               1682 non-null int64\n",
      "dtypes: float64(1), int64(19), object(3)\n",
      "memory usage: 315.4+ KB\n"
     ]
    }
   ],
   "source": [
    "movie_df.info()"
   ]
  },
  {
   "cell_type": "markdown",
   "metadata": {},
   "source": [
    "## Recommender System:  User-based Collaborative Filter\n",
    "* * *\n",
    "In this case, we are going to be build a simple recommender system, which is a user-based collaborative filter. Key Idea of this system is based on the materials presented in Chapter 4 of Recommender System Handbook (A very good book to have in collection).  I have provided a link for this book in our [github repo](https://github.com/bipsmlbd/reading_materials/blob/master/BOOKS.md#recsys). The above created dataframes are not useful for such a system, since it is oblivious to content of the items or profile of the users. Such information are useful for more robust recommender system. \n",
    "* * *"
   ]
  },
  {
   "cell_type": "markdown",
   "metadata": {},
   "source": [
    "### Ratings Info"
   ]
  },
  {
   "cell_type": "code",
   "execution_count": 7,
   "metadata": {},
   "outputs": [
    {
     "data": {
      "text/html": [
       "<div>\n",
       "<style>\n",
       "    .dataframe thead tr:only-child th {\n",
       "        text-align: right;\n",
       "    }\n",
       "\n",
       "    .dataframe thead th {\n",
       "        text-align: left;\n",
       "    }\n",
       "\n",
       "    .dataframe tbody tr th {\n",
       "        vertical-align: top;\n",
       "    }\n",
       "</style>\n",
       "<table border=\"1\" class=\"dataframe\">\n",
       "  <thead>\n",
       "    <tr style=\"text-align: right;\">\n",
       "      <th></th>\n",
       "      <th>userid</th>\n",
       "      <th>movieid</th>\n",
       "      <th>rating</th>\n",
       "      <th>timestamp</th>\n",
       "    </tr>\n",
       "  </thead>\n",
       "  <tbody>\n",
       "    <tr>\n",
       "      <th>0</th>\n",
       "      <td>196</td>\n",
       "      <td>242</td>\n",
       "      <td>3</td>\n",
       "      <td>881250949</td>\n",
       "    </tr>\n",
       "    <tr>\n",
       "      <th>1</th>\n",
       "      <td>186</td>\n",
       "      <td>302</td>\n",
       "      <td>3</td>\n",
       "      <td>891717742</td>\n",
       "    </tr>\n",
       "    <tr>\n",
       "      <th>2</th>\n",
       "      <td>22</td>\n",
       "      <td>377</td>\n",
       "      <td>1</td>\n",
       "      <td>878887116</td>\n",
       "    </tr>\n",
       "    <tr>\n",
       "      <th>3</th>\n",
       "      <td>244</td>\n",
       "      <td>51</td>\n",
       "      <td>2</td>\n",
       "      <td>880606923</td>\n",
       "    </tr>\n",
       "    <tr>\n",
       "      <th>4</th>\n",
       "      <td>166</td>\n",
       "      <td>346</td>\n",
       "      <td>1</td>\n",
       "      <td>886397596</td>\n",
       "    </tr>\n",
       "  </tbody>\n",
       "</table>\n",
       "</div>"
      ],
      "text/plain": [
       "   userid  movieid  rating  timestamp\n",
       "0     196      242       3  881250949\n",
       "1     186      302       3  891717742\n",
       "2      22      377       1  878887116\n",
       "3     244       51       2  880606923\n",
       "4     166      346       1  886397596"
      ]
     },
     "execution_count": 7,
     "metadata": {},
     "output_type": "execute_result"
    }
   ],
   "source": [
    "rating_cols = ['userid', 'movieid', 'rating', 'timestamp']\n",
    "ratings_df = pd.read_csv('ml-100k/u.data', sep='\\t', names=rating_cols, encoding='latin-1')\n",
    "ratings_df.head()"
   ]
  },
  {
   "cell_type": "code",
   "execution_count": 8,
   "metadata": {},
   "outputs": [
    {
     "name": "stdout",
     "output_type": "stream",
     "text": [
      "<class 'pandas.core.frame.DataFrame'>\n",
      "RangeIndex: 100000 entries, 0 to 99999\n",
      "Data columns (total 4 columns):\n",
      "userid       100000 non-null int64\n",
      "movieid      100000 non-null int64\n",
      "rating       100000 non-null int64\n",
      "timestamp    100000 non-null int64\n",
      "dtypes: int64(4)\n",
      "memory usage: 3.1 MB\n"
     ]
    }
   ],
   "source": [
    "ratings_df.info()"
   ]
  },
  {
   "cell_type": "markdown",
   "metadata": {},
   "source": [
    "### Training and Testing Set\n",
    "\n",
    "Machine learning models depends on hyper parameters, such as number of neighbors, number of iterations, etc. Before we settle on the values of hyper-parameters, we need to evaluate the performance of our model on new data that the model has not seen during the training phase. A simple way to do this is to take a random sample of the training dataset and separate it away from the training set. That normally looks like this:\n",
    "![Image of Training/Testing split](images/Traintest_ex.png)\n",
    "\n",
    "This is not useful for the case of collaborative filtering, since one needs all users and items in the training set. Randomly separating samples from the training set, may take out traces of items, specially if they have low presence in the set. A better method is to randomly mask a given percentage of the user-item interactions from the model during training. During testing, the masked interactions can be played out to see the performance of the system. \n",
    "\n",
    "Our test set is an exact copy of the original data. The training set will mask a random percentage of user-item interactions and act as if the user never rated the item (making it a sparse entry with a zero). We then check in the test set the error in predicting the rating of the masked interactions. If the user's actual rating is not way off from the predicted rating, then we can say that we are doing good. Our approach looks as follows: \n",
    "\n",
    "![Image of Masking](images/MaskTrain.png)\n"
   ]
  },
  {
   "cell_type": "markdown",
   "metadata": {},
   "source": [
    "We keep 5% (5000) of the data for testing. When we mask, we need to make sure that we are not masking item-movie interactions for users or movies that have too low number of ratings. "
   ]
  },
  {
   "cell_type": "code",
   "execution_count": 9,
   "metadata": {
    "scrolled": true
   },
   "outputs": [
    {
     "data": {
      "text/html": [
       "<div>\n",
       "<style>\n",
       "    .dataframe thead tr:only-child th {\n",
       "        text-align: right;\n",
       "    }\n",
       "\n",
       "    .dataframe thead th {\n",
       "        text-align: left;\n",
       "    }\n",
       "\n",
       "    .dataframe tbody tr th {\n",
       "        vertical-align: top;\n",
       "    }\n",
       "</style>\n",
       "<table border=\"1\" class=\"dataframe\">\n",
       "  <thead>\n",
       "    <tr style=\"text-align: right;\">\n",
       "      <th></th>\n",
       "      <th>userid</th>\n",
       "      <th>movieid</th>\n",
       "      <th>rating</th>\n",
       "      <th>timestamp</th>\n",
       "    </tr>\n",
       "  </thead>\n",
       "  <tbody>\n",
       "    <tr>\n",
       "      <th>80436</th>\n",
       "      <td>807</td>\n",
       "      <td>222</td>\n",
       "      <td>4</td>\n",
       "      <td>892528174</td>\n",
       "    </tr>\n",
       "    <tr>\n",
       "      <th>66892</th>\n",
       "      <td>854</td>\n",
       "      <td>285</td>\n",
       "      <td>4</td>\n",
       "      <td>882812165</td>\n",
       "    </tr>\n",
       "    <tr>\n",
       "      <th>86811</th>\n",
       "      <td>938</td>\n",
       "      <td>678</td>\n",
       "      <td>3</td>\n",
       "      <td>891356282</td>\n",
       "    </tr>\n",
       "    <tr>\n",
       "      <th>59190</th>\n",
       "      <td>650</td>\n",
       "      <td>228</td>\n",
       "      <td>4</td>\n",
       "      <td>891369954</td>\n",
       "    </tr>\n",
       "    <tr>\n",
       "      <th>60351</th>\n",
       "      <td>831</td>\n",
       "      <td>266</td>\n",
       "      <td>3</td>\n",
       "      <td>891354338</td>\n",
       "    </tr>\n",
       "  </tbody>\n",
       "</table>\n",
       "</div>"
      ],
      "text/plain": [
       "       userid  movieid  rating  timestamp\n",
       "80436     807      222       4  892528174\n",
       "66892     854      285       4  882812165\n",
       "86811     938      678       3  891356282\n",
       "59190     650      228       4  891369954\n",
       "60351     831      266       3  891354338"
      ]
     },
     "execution_count": 9,
     "metadata": {},
     "output_type": "execute_result"
    }
   ],
   "source": [
    "def get_masked_indices(df: pd.DataFrame, test_pct: int=0.05, min_user_ratings: int=20, min_movie_ratings: int=20):\n",
    "\n",
    "    multiplier = 2  # parameter to increase the sample size, so that additional policies can be applied to discriminate masking\n",
    "    movie_counter = Counter(df.movieid)\n",
    "    user_counter = Counter(df.userid)\n",
    "    num_samples = int(test_pct * df.shape[0] * 2)\n",
    "    masked_indices_basis = np.random.choice(df.index, size=num_samples, replace=False)\n",
    "    \n",
    "    maskable_indices = []\n",
    "    for index in masked_indices_basis:\n",
    "        row = df.loc[index]\n",
    "        user_ratings = user_counter[row.userid]\n",
    "        movie_ratings = movie_counter[row.movieid]\n",
    "\n",
    "        if  user_ratings > min_user_ratings and movie_ratings > min_movie_ratings: \n",
    "            maskable_indices.append(index)\n",
    "\n",
    "    masked_indices = np.random.choice(maskable_indices, size=int(num_samples/multiplier), replace=False)\n",
    "    return masked_indices\n",
    "\n",
    "masked_indices = get_masked_indices(ratings_df)\n",
    "ratings_df.loc[masked_indices].head()"
   ]
  },
  {
   "cell_type": "markdown",
   "metadata": {},
   "source": [
    "Mask the selected indexes in the dataset for training. This should increase the sparsity of the training data."
   ]
  },
  {
   "cell_type": "code",
   "execution_count": 10,
   "metadata": {},
   "outputs": [
    {
     "data": {
      "text/plain": [
       "0.9369533063577546"
      ]
     },
     "execution_count": 10,
     "metadata": {},
     "output_type": "execute_result"
    }
   ],
   "source": [
    "ratings_df_train = ratings_df.copy()\n",
    "sparsity_before_masking = 1 - ratings_df_train.shape[0]/(num_users*num_movies)\n",
    "sparsity_before_masking"
   ]
  },
  {
   "cell_type": "code",
   "execution_count": 11,
   "metadata": {},
   "outputs": [
    {
     "data": {
      "text/plain": [
       "0.9401056410398669"
      ]
     },
     "execution_count": 11,
     "metadata": {},
     "output_type": "execute_result"
    }
   ],
   "source": [
    "for index in masked_indices:\n",
    "    ratings_df_train.loc[index, \"rating\"] = 0\n",
    "    \n",
    "sparsity_after_masking = 1 - ratings_df_train[ratings_df_train.rating != 0].shape[0]/(num_users*num_movies)\n",
    "sparsity_after_masking"
   ]
  },
  {
   "cell_type": "markdown",
   "metadata": {},
   "source": [
    "Obviously masking increases the sparsity of our training data. "
   ]
  },
  {
   "cell_type": "markdown",
   "metadata": {},
   "source": [
    "### Model\n",
    "\n",
    "Here, the model is the similarity matrix of users, where each value $s_{u, v}$ represents a similarity measurement between users $a$ and $b$. Similarity enables: a) selecting the most trusted users and b) give more or less importance to those. "
   ]
  },
  {
   "cell_type": "markdown",
   "metadata": {},
   "source": [
    "First, create a user-movie-rating matrix for ease of calculation using dataframes."
   ]
  },
  {
   "cell_type": "code",
   "execution_count": 12,
   "metadata": {},
   "outputs": [
    {
     "data": {
      "text/html": [
       "<div>\n",
       "<style>\n",
       "    .dataframe thead tr:only-child th {\n",
       "        text-align: right;\n",
       "    }\n",
       "\n",
       "    .dataframe thead th {\n",
       "        text-align: left;\n",
       "    }\n",
       "\n",
       "    .dataframe tbody tr th {\n",
       "        vertical-align: top;\n",
       "    }\n",
       "</style>\n",
       "<table border=\"1\" class=\"dataframe\">\n",
       "  <thead>\n",
       "    <tr style=\"text-align: right;\">\n",
       "      <th>movieid</th>\n",
       "      <th>1</th>\n",
       "      <th>2</th>\n",
       "      <th>3</th>\n",
       "      <th>4</th>\n",
       "      <th>5</th>\n",
       "      <th>6</th>\n",
       "      <th>7</th>\n",
       "      <th>8</th>\n",
       "      <th>9</th>\n",
       "      <th>10</th>\n",
       "      <th>...</th>\n",
       "      <th>1673</th>\n",
       "      <th>1674</th>\n",
       "      <th>1675</th>\n",
       "      <th>1676</th>\n",
       "      <th>1677</th>\n",
       "      <th>1678</th>\n",
       "      <th>1679</th>\n",
       "      <th>1680</th>\n",
       "      <th>1681</th>\n",
       "      <th>1682</th>\n",
       "    </tr>\n",
       "    <tr>\n",
       "      <th>userid</th>\n",
       "      <th></th>\n",
       "      <th></th>\n",
       "      <th></th>\n",
       "      <th></th>\n",
       "      <th></th>\n",
       "      <th></th>\n",
       "      <th></th>\n",
       "      <th></th>\n",
       "      <th></th>\n",
       "      <th></th>\n",
       "      <th></th>\n",
       "      <th></th>\n",
       "      <th></th>\n",
       "      <th></th>\n",
       "      <th></th>\n",
       "      <th></th>\n",
       "      <th></th>\n",
       "      <th></th>\n",
       "      <th></th>\n",
       "      <th></th>\n",
       "      <th></th>\n",
       "    </tr>\n",
       "  </thead>\n",
       "  <tbody>\n",
       "    <tr>\n",
       "      <th>1</th>\n",
       "      <td>5.0</td>\n",
       "      <td>3.0</td>\n",
       "      <td>4.0</td>\n",
       "      <td>3.0</td>\n",
       "      <td>3.0</td>\n",
       "      <td>5.0</td>\n",
       "      <td>4.0</td>\n",
       "      <td>1.0</td>\n",
       "      <td>0.0</td>\n",
       "      <td>3.0</td>\n",
       "      <td>...</td>\n",
       "      <td>0.0</td>\n",
       "      <td>0.0</td>\n",
       "      <td>0.0</td>\n",
       "      <td>0.0</td>\n",
       "      <td>0.0</td>\n",
       "      <td>0.0</td>\n",
       "      <td>0.0</td>\n",
       "      <td>0.0</td>\n",
       "      <td>0.0</td>\n",
       "      <td>0.0</td>\n",
       "    </tr>\n",
       "    <tr>\n",
       "      <th>2</th>\n",
       "      <td>4.0</td>\n",
       "      <td>0.0</td>\n",
       "      <td>0.0</td>\n",
       "      <td>0.0</td>\n",
       "      <td>0.0</td>\n",
       "      <td>0.0</td>\n",
       "      <td>0.0</td>\n",
       "      <td>0.0</td>\n",
       "      <td>0.0</td>\n",
       "      <td>2.0</td>\n",
       "      <td>...</td>\n",
       "      <td>0.0</td>\n",
       "      <td>0.0</td>\n",
       "      <td>0.0</td>\n",
       "      <td>0.0</td>\n",
       "      <td>0.0</td>\n",
       "      <td>0.0</td>\n",
       "      <td>0.0</td>\n",
       "      <td>0.0</td>\n",
       "      <td>0.0</td>\n",
       "      <td>0.0</td>\n",
       "    </tr>\n",
       "    <tr>\n",
       "      <th>3</th>\n",
       "      <td>0.0</td>\n",
       "      <td>0.0</td>\n",
       "      <td>0.0</td>\n",
       "      <td>0.0</td>\n",
       "      <td>0.0</td>\n",
       "      <td>0.0</td>\n",
       "      <td>0.0</td>\n",
       "      <td>0.0</td>\n",
       "      <td>0.0</td>\n",
       "      <td>0.0</td>\n",
       "      <td>...</td>\n",
       "      <td>0.0</td>\n",
       "      <td>0.0</td>\n",
       "      <td>0.0</td>\n",
       "      <td>0.0</td>\n",
       "      <td>0.0</td>\n",
       "      <td>0.0</td>\n",
       "      <td>0.0</td>\n",
       "      <td>0.0</td>\n",
       "      <td>0.0</td>\n",
       "      <td>0.0</td>\n",
       "    </tr>\n",
       "    <tr>\n",
       "      <th>4</th>\n",
       "      <td>0.0</td>\n",
       "      <td>0.0</td>\n",
       "      <td>0.0</td>\n",
       "      <td>0.0</td>\n",
       "      <td>0.0</td>\n",
       "      <td>0.0</td>\n",
       "      <td>0.0</td>\n",
       "      <td>0.0</td>\n",
       "      <td>0.0</td>\n",
       "      <td>0.0</td>\n",
       "      <td>...</td>\n",
       "      <td>0.0</td>\n",
       "      <td>0.0</td>\n",
       "      <td>0.0</td>\n",
       "      <td>0.0</td>\n",
       "      <td>0.0</td>\n",
       "      <td>0.0</td>\n",
       "      <td>0.0</td>\n",
       "      <td>0.0</td>\n",
       "      <td>0.0</td>\n",
       "      <td>0.0</td>\n",
       "    </tr>\n",
       "    <tr>\n",
       "      <th>5</th>\n",
       "      <td>4.0</td>\n",
       "      <td>3.0</td>\n",
       "      <td>0.0</td>\n",
       "      <td>0.0</td>\n",
       "      <td>0.0</td>\n",
       "      <td>0.0</td>\n",
       "      <td>0.0</td>\n",
       "      <td>0.0</td>\n",
       "      <td>0.0</td>\n",
       "      <td>0.0</td>\n",
       "      <td>...</td>\n",
       "      <td>0.0</td>\n",
       "      <td>0.0</td>\n",
       "      <td>0.0</td>\n",
       "      <td>0.0</td>\n",
       "      <td>0.0</td>\n",
       "      <td>0.0</td>\n",
       "      <td>0.0</td>\n",
       "      <td>0.0</td>\n",
       "      <td>0.0</td>\n",
       "      <td>0.0</td>\n",
       "    </tr>\n",
       "  </tbody>\n",
       "</table>\n",
       "<p>5 rows × 1682 columns</p>\n",
       "</div>"
      ],
      "text/plain": [
       "movieid  1     2     3     4     5     6     7     8     9     10    ...   \\\n",
       "userid                                                               ...    \n",
       "1         5.0   3.0   4.0   3.0   3.0   5.0   4.0   1.0   0.0   3.0  ...    \n",
       "2         4.0   0.0   0.0   0.0   0.0   0.0   0.0   0.0   0.0   2.0  ...    \n",
       "3         0.0   0.0   0.0   0.0   0.0   0.0   0.0   0.0   0.0   0.0  ...    \n",
       "4         0.0   0.0   0.0   0.0   0.0   0.0   0.0   0.0   0.0   0.0  ...    \n",
       "5         4.0   3.0   0.0   0.0   0.0   0.0   0.0   0.0   0.0   0.0  ...    \n",
       "\n",
       "movieid  1673  1674  1675  1676  1677  1678  1679  1680  1681  1682  \n",
       "userid                                                               \n",
       "1         0.0   0.0   0.0   0.0   0.0   0.0   0.0   0.0   0.0   0.0  \n",
       "2         0.0   0.0   0.0   0.0   0.0   0.0   0.0   0.0   0.0   0.0  \n",
       "3         0.0   0.0   0.0   0.0   0.0   0.0   0.0   0.0   0.0   0.0  \n",
       "4         0.0   0.0   0.0   0.0   0.0   0.0   0.0   0.0   0.0   0.0  \n",
       "5         0.0   0.0   0.0   0.0   0.0   0.0   0.0   0.0   0.0   0.0  \n",
       "\n",
       "[5 rows x 1682 columns]"
      ]
     },
     "execution_count": 12,
     "metadata": {},
     "output_type": "execute_result"
    }
   ],
   "source": [
    "movie_ratings_train = ratings_df_train.pivot(index='userid', columns='movieid', values='rating').fillna(0)\n",
    "movie_ratings_train.head()"
   ]
  },
  {
   "cell_type": "code",
   "execution_count": 13,
   "metadata": {},
   "outputs": [
    {
     "name": "stdout",
     "output_type": "stream",
     "text": [
      "<class 'pandas.core.frame.DataFrame'>\n",
      "Int64Index: 943 entries, 1 to 943\n",
      "Columns: 1682 entries, 1 to 1682\n",
      "dtypes: float64(1682)\n",
      "memory usage: 12.1 MB\n"
     ]
    }
   ],
   "source": [
    "movie_ratings_train.info()"
   ]
  },
  {
   "cell_type": "markdown",
   "metadata": {},
   "source": [
    "Lets compute similarity matrix between user pairs of size $n_u * n_u$, where $n_u$ is the number of users. While many adopts Cosine similarity, Pearson correlation is preferred since it adjusts for mean and variance.  Formula for `Pearson Correlation Coefficient`: \n",
    "\n",
    "$$w_{u, v} = \\frac{\\sum_{i \\in I_{uv}} (r_{ui}-\\bar{r_u})(r_{vi} -\\bar{r_v})}{\\sqrt{\\sum_{i \\in I_{uv}} (r_{ui}-\\bar{r_u})^2 \\sum_{i \\in I_{uv}}  (r_{vi}-\\bar{r_v})^2}}$$\n",
    "\n",
    "Pandas provides the `corr` function that implements `Pearson Correlation Coefficient`. The only catch is that it applies column-wise operation. So, we need to transform the dataframe to picks `user` as a column."
   ]
  },
  {
   "cell_type": "code",
   "execution_count": 14,
   "metadata": {},
   "outputs": [
    {
     "data": {
      "text/html": [
       "<div>\n",
       "<style>\n",
       "    .dataframe thead tr:only-child th {\n",
       "        text-align: right;\n",
       "    }\n",
       "\n",
       "    .dataframe thead th {\n",
       "        text-align: left;\n",
       "    }\n",
       "\n",
       "    .dataframe tbody tr th {\n",
       "        vertical-align: top;\n",
       "    }\n",
       "</style>\n",
       "<table border=\"1\" class=\"dataframe\">\n",
       "  <thead>\n",
       "    <tr style=\"text-align: right;\">\n",
       "      <th>userid</th>\n",
       "      <th>1</th>\n",
       "      <th>2</th>\n",
       "      <th>3</th>\n",
       "      <th>4</th>\n",
       "      <th>5</th>\n",
       "      <th>6</th>\n",
       "      <th>7</th>\n",
       "      <th>8</th>\n",
       "      <th>9</th>\n",
       "      <th>10</th>\n",
       "      <th>...</th>\n",
       "      <th>934</th>\n",
       "      <th>935</th>\n",
       "      <th>936</th>\n",
       "      <th>937</th>\n",
       "      <th>938</th>\n",
       "      <th>939</th>\n",
       "      <th>940</th>\n",
       "      <th>941</th>\n",
       "      <th>942</th>\n",
       "      <th>943</th>\n",
       "    </tr>\n",
       "    <tr>\n",
       "      <th>userid</th>\n",
       "      <th></th>\n",
       "      <th></th>\n",
       "      <th></th>\n",
       "      <th></th>\n",
       "      <th></th>\n",
       "      <th></th>\n",
       "      <th></th>\n",
       "      <th></th>\n",
       "      <th></th>\n",
       "      <th></th>\n",
       "      <th></th>\n",
       "      <th></th>\n",
       "      <th></th>\n",
       "      <th></th>\n",
       "      <th></th>\n",
       "      <th></th>\n",
       "      <th></th>\n",
       "      <th></th>\n",
       "      <th></th>\n",
       "      <th></th>\n",
       "      <th></th>\n",
       "    </tr>\n",
       "  </thead>\n",
       "  <tbody>\n",
       "    <tr>\n",
       "      <th>1</th>\n",
       "      <td>1.000000</td>\n",
       "      <td>0.117775</td>\n",
       "      <td>-0.021543</td>\n",
       "      <td>0.024557</td>\n",
       "      <td>0.292548</td>\n",
       "      <td>0.326230</td>\n",
       "      <td>0.296801</td>\n",
       "      <td>0.273938</td>\n",
       "      <td>0.045633</td>\n",
       "      <td>0.264558</td>\n",
       "      <td>...</td>\n",
       "      <td>0.278664</td>\n",
       "      <td>0.052180</td>\n",
       "      <td>0.179674</td>\n",
       "      <td>0.133403</td>\n",
       "      <td>0.103729</td>\n",
       "      <td>0.025183</td>\n",
       "      <td>0.235314</td>\n",
       "      <td>0.084682</td>\n",
       "      <td>0.121212</td>\n",
       "      <td>0.296860</td>\n",
       "    </tr>\n",
       "    <tr>\n",
       "      <th>2</th>\n",
       "      <td>0.117775</td>\n",
       "      <td>1.000000</td>\n",
       "      <td>0.093648</td>\n",
       "      <td>0.168609</td>\n",
       "      <td>0.029160</td>\n",
       "      <td>0.190547</td>\n",
       "      <td>0.004776</td>\n",
       "      <td>0.065347</td>\n",
       "      <td>0.121637</td>\n",
       "      <td>0.094540</td>\n",
       "      <td>...</td>\n",
       "      <td>0.107727</td>\n",
       "      <td>0.251821</td>\n",
       "      <td>0.296979</td>\n",
       "      <td>0.371189</td>\n",
       "      <td>0.271242</td>\n",
       "      <td>0.166327</td>\n",
       "      <td>0.174563</td>\n",
       "      <td>0.120665</td>\n",
       "      <td>0.151466</td>\n",
       "      <td>0.044933</td>\n",
       "    </tr>\n",
       "    <tr>\n",
       "      <th>3</th>\n",
       "      <td>-0.021543</td>\n",
       "      <td>0.093648</td>\n",
       "      <td>1.000000</td>\n",
       "      <td>0.301034</td>\n",
       "      <td>-0.023777</td>\n",
       "      <td>0.017091</td>\n",
       "      <td>-0.019640</td>\n",
       "      <td>0.045090</td>\n",
       "      <td>0.048730</td>\n",
       "      <td>0.003090</td>\n",
       "      <td>...</td>\n",
       "      <td>-0.015953</td>\n",
       "      <td>0.021118</td>\n",
       "      <td>0.119089</td>\n",
       "      <td>0.043261</td>\n",
       "      <td>0.101968</td>\n",
       "      <td>0.001682</td>\n",
       "      <td>0.137490</td>\n",
       "      <td>0.092887</td>\n",
       "      <td>0.086109</td>\n",
       "      <td>-0.019410</td>\n",
       "    </tr>\n",
       "    <tr>\n",
       "      <th>4</th>\n",
       "      <td>0.024557</td>\n",
       "      <td>0.168609</td>\n",
       "      <td>0.301034</td>\n",
       "      <td>1.000000</td>\n",
       "      <td>-0.000511</td>\n",
       "      <td>0.032658</td>\n",
       "      <td>0.036842</td>\n",
       "      <td>0.129028</td>\n",
       "      <td>0.092857</td>\n",
       "      <td>0.013528</td>\n",
       "      <td>...</td>\n",
       "      <td>0.018314</td>\n",
       "      <td>0.019738</td>\n",
       "      <td>0.110432</td>\n",
       "      <td>0.179598</td>\n",
       "      <td>0.130077</td>\n",
       "      <td>0.011733</td>\n",
       "      <td>0.177727</td>\n",
       "      <td>0.146453</td>\n",
       "      <td>0.153406</td>\n",
       "      <td>0.027039</td>\n",
       "    </tr>\n",
       "    <tr>\n",
       "      <th>5</th>\n",
       "      <td>0.292548</td>\n",
       "      <td>0.029160</td>\n",
       "      <td>-0.023777</td>\n",
       "      <td>-0.000511</td>\n",
       "      <td>1.000000</td>\n",
       "      <td>0.161164</td>\n",
       "      <td>0.255966</td>\n",
       "      <td>0.216841</td>\n",
       "      <td>0.030723</td>\n",
       "      <td>0.110543</td>\n",
       "      <td>...</td>\n",
       "      <td>0.279455</td>\n",
       "      <td>0.042857</td>\n",
       "      <td>0.010984</td>\n",
       "      <td>0.042989</td>\n",
       "      <td>0.083351</td>\n",
       "      <td>0.012719</td>\n",
       "      <td>0.192669</td>\n",
       "      <td>0.074114</td>\n",
       "      <td>0.094085</td>\n",
       "      <td>0.257871</td>\n",
       "    </tr>\n",
       "  </tbody>\n",
       "</table>\n",
       "<p>5 rows × 943 columns</p>\n",
       "</div>"
      ],
      "text/plain": [
       "userid       1         2         3         4         5         6         7    \\\n",
       "userid                                                                         \n",
       "1       1.000000  0.117775 -0.021543  0.024557  0.292548  0.326230  0.296801   \n",
       "2       0.117775  1.000000  0.093648  0.168609  0.029160  0.190547  0.004776   \n",
       "3      -0.021543  0.093648  1.000000  0.301034 -0.023777  0.017091 -0.019640   \n",
       "4       0.024557  0.168609  0.301034  1.000000 -0.000511  0.032658  0.036842   \n",
       "5       0.292548  0.029160 -0.023777 -0.000511  1.000000  0.161164  0.255966   \n",
       "\n",
       "userid       8         9         10     ...          934       935       936  \\\n",
       "userid                                  ...                                    \n",
       "1       0.273938  0.045633  0.264558    ...     0.278664  0.052180  0.179674   \n",
       "2       0.065347  0.121637  0.094540    ...     0.107727  0.251821  0.296979   \n",
       "3       0.045090  0.048730  0.003090    ...    -0.015953  0.021118  0.119089   \n",
       "4       0.129028  0.092857  0.013528    ...     0.018314  0.019738  0.110432   \n",
       "5       0.216841  0.030723  0.110543    ...     0.279455  0.042857  0.010984   \n",
       "\n",
       "userid       937       938       939       940       941       942       943  \n",
       "userid                                                                        \n",
       "1       0.133403  0.103729  0.025183  0.235314  0.084682  0.121212  0.296860  \n",
       "2       0.371189  0.271242  0.166327  0.174563  0.120665  0.151466  0.044933  \n",
       "3       0.043261  0.101968  0.001682  0.137490  0.092887  0.086109 -0.019410  \n",
       "4       0.179598  0.130077  0.011733  0.177727  0.146453  0.153406  0.027039  \n",
       "5       0.042989  0.083351  0.012719  0.192669  0.074114  0.094085  0.257871  \n",
       "\n",
       "[5 rows x 943 columns]"
      ]
     },
     "execution_count": 14,
     "metadata": {},
     "output_type": "execute_result"
    }
   ],
   "source": [
    "user_similarities = movie_ratings_train.T.corr('pearson')\n",
    "user_similarities.head()"
   ]
  },
  {
   "cell_type": "code",
   "execution_count": 15,
   "metadata": {},
   "outputs": [
    {
     "name": "stdout",
     "output_type": "stream",
     "text": [
      "<class 'pandas.core.frame.DataFrame'>\n",
      "Int64Index: 943 entries, 1 to 943\n",
      "Columns: 943 entries, 1 to 943\n",
      "dtypes: float64(943)\n",
      "memory usage: 6.8 MB\n"
     ]
    }
   ],
   "source": [
    "user_similarities.info()"
   ]
  },
  {
   "cell_type": "markdown",
   "metadata": {},
   "source": [
    "### Evaluating the model"
   ]
  },
  {
   "cell_type": "markdown",
   "metadata": {},
   "source": [
    "Lets create a set of ground truths using the masked data for testing."
   ]
  },
  {
   "cell_type": "code",
   "execution_count": 16,
   "metadata": {},
   "outputs": [
    {
     "data": {
      "text/plain": [
       "[(262, 3),\n",
       " (249, 4),\n",
       " (78, 1),\n",
       " (184, 4),\n",
       " (153, 3),\n",
       " (254, 1),\n",
       " (98, 4),\n",
       " (15, 5),\n",
       " (39, 4),\n",
       " (26, 3),\n",
       " (9, 5),\n",
       " (73, 3),\n",
       " (108, 5),\n",
       " (217, 3)]"
      ]
     },
     "execution_count": 16,
     "metadata": {},
     "output_type": "execute_result"
    }
   ],
   "source": [
    "test_set = ratings_df.loc[masked_indices]\n",
    "ground_truths = test_set.groupby('userid').apply(lambda rows: list(zip(rows.movieid, rows.rating))).to_dict()\n",
    "ground_truths[1]"
   ]
  },
  {
   "cell_type": "markdown",
   "metadata": {},
   "source": [
    "Let us also create a dataframe for test data"
   ]
  },
  {
   "cell_type": "code",
   "execution_count": 17,
   "metadata": {},
   "outputs": [
    {
     "data": {
      "text/html": [
       "<div>\n",
       "<style>\n",
       "    .dataframe thead tr:only-child th {\n",
       "        text-align: right;\n",
       "    }\n",
       "\n",
       "    .dataframe thead th {\n",
       "        text-align: left;\n",
       "    }\n",
       "\n",
       "    .dataframe tbody tr th {\n",
       "        vertical-align: top;\n",
       "    }\n",
       "</style>\n",
       "<table border=\"1\" class=\"dataframe\">\n",
       "  <thead>\n",
       "    <tr style=\"text-align: right;\">\n",
       "      <th>movieid</th>\n",
       "      <th>1</th>\n",
       "      <th>2</th>\n",
       "      <th>3</th>\n",
       "      <th>4</th>\n",
       "      <th>5</th>\n",
       "      <th>6</th>\n",
       "      <th>7</th>\n",
       "      <th>8</th>\n",
       "      <th>9</th>\n",
       "      <th>10</th>\n",
       "      <th>...</th>\n",
       "      <th>1673</th>\n",
       "      <th>1674</th>\n",
       "      <th>1675</th>\n",
       "      <th>1676</th>\n",
       "      <th>1677</th>\n",
       "      <th>1678</th>\n",
       "      <th>1679</th>\n",
       "      <th>1680</th>\n",
       "      <th>1681</th>\n",
       "      <th>1682</th>\n",
       "    </tr>\n",
       "    <tr>\n",
       "      <th>userid</th>\n",
       "      <th></th>\n",
       "      <th></th>\n",
       "      <th></th>\n",
       "      <th></th>\n",
       "      <th></th>\n",
       "      <th></th>\n",
       "      <th></th>\n",
       "      <th></th>\n",
       "      <th></th>\n",
       "      <th></th>\n",
       "      <th></th>\n",
       "      <th></th>\n",
       "      <th></th>\n",
       "      <th></th>\n",
       "      <th></th>\n",
       "      <th></th>\n",
       "      <th></th>\n",
       "      <th></th>\n",
       "      <th></th>\n",
       "      <th></th>\n",
       "      <th></th>\n",
       "    </tr>\n",
       "  </thead>\n",
       "  <tbody>\n",
       "    <tr>\n",
       "      <th>1</th>\n",
       "      <td>5.0</td>\n",
       "      <td>3.0</td>\n",
       "      <td>4.0</td>\n",
       "      <td>3.0</td>\n",
       "      <td>3.0</td>\n",
       "      <td>5.0</td>\n",
       "      <td>4.0</td>\n",
       "      <td>1.0</td>\n",
       "      <td>5.0</td>\n",
       "      <td>3.0</td>\n",
       "      <td>...</td>\n",
       "      <td>0.0</td>\n",
       "      <td>0.0</td>\n",
       "      <td>0.0</td>\n",
       "      <td>0.0</td>\n",
       "      <td>0.0</td>\n",
       "      <td>0.0</td>\n",
       "      <td>0.0</td>\n",
       "      <td>0.0</td>\n",
       "      <td>0.0</td>\n",
       "      <td>0.0</td>\n",
       "    </tr>\n",
       "    <tr>\n",
       "      <th>2</th>\n",
       "      <td>4.0</td>\n",
       "      <td>0.0</td>\n",
       "      <td>0.0</td>\n",
       "      <td>0.0</td>\n",
       "      <td>0.0</td>\n",
       "      <td>0.0</td>\n",
       "      <td>0.0</td>\n",
       "      <td>0.0</td>\n",
       "      <td>0.0</td>\n",
       "      <td>2.0</td>\n",
       "      <td>...</td>\n",
       "      <td>0.0</td>\n",
       "      <td>0.0</td>\n",
       "      <td>0.0</td>\n",
       "      <td>0.0</td>\n",
       "      <td>0.0</td>\n",
       "      <td>0.0</td>\n",
       "      <td>0.0</td>\n",
       "      <td>0.0</td>\n",
       "      <td>0.0</td>\n",
       "      <td>0.0</td>\n",
       "    </tr>\n",
       "    <tr>\n",
       "      <th>3</th>\n",
       "      <td>0.0</td>\n",
       "      <td>0.0</td>\n",
       "      <td>0.0</td>\n",
       "      <td>0.0</td>\n",
       "      <td>0.0</td>\n",
       "      <td>0.0</td>\n",
       "      <td>0.0</td>\n",
       "      <td>0.0</td>\n",
       "      <td>0.0</td>\n",
       "      <td>0.0</td>\n",
       "      <td>...</td>\n",
       "      <td>0.0</td>\n",
       "      <td>0.0</td>\n",
       "      <td>0.0</td>\n",
       "      <td>0.0</td>\n",
       "      <td>0.0</td>\n",
       "      <td>0.0</td>\n",
       "      <td>0.0</td>\n",
       "      <td>0.0</td>\n",
       "      <td>0.0</td>\n",
       "      <td>0.0</td>\n",
       "    </tr>\n",
       "    <tr>\n",
       "      <th>4</th>\n",
       "      <td>0.0</td>\n",
       "      <td>0.0</td>\n",
       "      <td>0.0</td>\n",
       "      <td>0.0</td>\n",
       "      <td>0.0</td>\n",
       "      <td>0.0</td>\n",
       "      <td>0.0</td>\n",
       "      <td>0.0</td>\n",
       "      <td>0.0</td>\n",
       "      <td>0.0</td>\n",
       "      <td>...</td>\n",
       "      <td>0.0</td>\n",
       "      <td>0.0</td>\n",
       "      <td>0.0</td>\n",
       "      <td>0.0</td>\n",
       "      <td>0.0</td>\n",
       "      <td>0.0</td>\n",
       "      <td>0.0</td>\n",
       "      <td>0.0</td>\n",
       "      <td>0.0</td>\n",
       "      <td>0.0</td>\n",
       "    </tr>\n",
       "    <tr>\n",
       "      <th>5</th>\n",
       "      <td>4.0</td>\n",
       "      <td>3.0</td>\n",
       "      <td>0.0</td>\n",
       "      <td>0.0</td>\n",
       "      <td>0.0</td>\n",
       "      <td>0.0</td>\n",
       "      <td>0.0</td>\n",
       "      <td>0.0</td>\n",
       "      <td>0.0</td>\n",
       "      <td>0.0</td>\n",
       "      <td>...</td>\n",
       "      <td>0.0</td>\n",
       "      <td>0.0</td>\n",
       "      <td>0.0</td>\n",
       "      <td>0.0</td>\n",
       "      <td>0.0</td>\n",
       "      <td>0.0</td>\n",
       "      <td>0.0</td>\n",
       "      <td>0.0</td>\n",
       "      <td>0.0</td>\n",
       "      <td>0.0</td>\n",
       "    </tr>\n",
       "  </tbody>\n",
       "</table>\n",
       "<p>5 rows × 1682 columns</p>\n",
       "</div>"
      ],
      "text/plain": [
       "movieid  1     2     3     4     5     6     7     8     9     10    ...   \\\n",
       "userid                                                               ...    \n",
       "1         5.0   3.0   4.0   3.0   3.0   5.0   4.0   1.0   5.0   3.0  ...    \n",
       "2         4.0   0.0   0.0   0.0   0.0   0.0   0.0   0.0   0.0   2.0  ...    \n",
       "3         0.0   0.0   0.0   0.0   0.0   0.0   0.0   0.0   0.0   0.0  ...    \n",
       "4         0.0   0.0   0.0   0.0   0.0   0.0   0.0   0.0   0.0   0.0  ...    \n",
       "5         4.0   3.0   0.0   0.0   0.0   0.0   0.0   0.0   0.0   0.0  ...    \n",
       "\n",
       "movieid  1673  1674  1675  1676  1677  1678  1679  1680  1681  1682  \n",
       "userid                                                               \n",
       "1         0.0   0.0   0.0   0.0   0.0   0.0   0.0   0.0   0.0   0.0  \n",
       "2         0.0   0.0   0.0   0.0   0.0   0.0   0.0   0.0   0.0   0.0  \n",
       "3         0.0   0.0   0.0   0.0   0.0   0.0   0.0   0.0   0.0   0.0  \n",
       "4         0.0   0.0   0.0   0.0   0.0   0.0   0.0   0.0   0.0   0.0  \n",
       "5         0.0   0.0   0.0   0.0   0.0   0.0   0.0   0.0   0.0   0.0  \n",
       "\n",
       "[5 rows x 1682 columns]"
      ]
     },
     "execution_count": 17,
     "metadata": {},
     "output_type": "execute_result"
    }
   ],
   "source": [
    "ratings_df_test = ratings_df.copy()\n",
    "movie_ratings_test = ratings_df_test.pivot(index='userid', columns='movieid', values='rating').fillna(0)\n",
    "movie_ratings_test.head()"
   ]
  },
  {
   "cell_type": "markdown",
   "metadata": {},
   "source": [
    "### Predict a rating\n",
    "\n",
    "We are going to predict a rating using the following formula: \n",
    "$$r_{ui} = \\bar{r_{u}} + \\frac{\\sum_{v \\in N_i(u)} w_{uv} (r_{vi} - \\bar{r_v})}{\\sum_{v \\in N_i(u)} |w_{uv}|}$$\n",
    "\n",
    "Lets apply it for a specific movie for a specific user."
   ]
  },
  {
   "cell_type": "code",
   "execution_count": 18,
   "metadata": {},
   "outputs": [
    {
     "data": {
      "text/plain": [
       "(1, 1, 262, 3)"
      ]
     },
     "execution_count": 18,
     "metadata": {},
     "output_type": "execute_result"
    }
   ],
   "source": [
    "user_index = 0  \n",
    "movie_rank = 1 \n",
    "target_user = list(ground_truths.keys())[user_index]\n",
    "target_movie = ground_truths[target_user][movie_rank-1][0]\n",
    "target_movie_rating = ground_truths[target_user][movie_rank-1][1]\n",
    "target_user, movie_rank, target_movie, target_movie_rating"
   ]
  },
  {
   "cell_type": "markdown",
   "metadata": {},
   "source": [
    "First, lets get $\\{r_{vi}|v \\in N_i(u)\\}$, which is a superset of $\\{r_vi|r_{vi}>0\\}$ . "
   ]
  },
  {
   "cell_type": "code",
   "execution_count": 19,
   "metadata": {},
   "outputs": [
    {
     "data": {
      "text/plain": [
       "userid\n",
       "1     3.0\n",
       "13    4.0\n",
       "21    4.0\n",
       "31    5.0\n",
       "46    5.0\n",
       "Name: 262, dtype: float64"
      ]
     },
     "execution_count": 19,
     "metadata": {},
     "output_type": "execute_result"
    }
   ],
   "source": [
    "target_movie_ratings = movie_ratings_test[target_movie][movie_ratings_test[target_movie] != 0]\n",
    "target_movie_ratings.head()"
   ]
  },
  {
   "cell_type": "markdown",
   "metadata": {},
   "source": [
    "Find $N_i(u)$, where $N_i(u)=10$"
   ]
  },
  {
   "cell_type": "code",
   "execution_count": 20,
   "metadata": {},
   "outputs": [
    {
     "data": {
      "text/plain": [
       "userid\n",
       "889    0.422397\n",
       "643    0.391298\n",
       "276    0.390656\n",
       "303    0.369476\n",
       "592    0.346354\n",
       "Name: 1, dtype: float64"
      ]
     },
     "execution_count": 20,
     "metadata": {},
     "output_type": "execute_result"
    }
   ],
   "source": [
    "similar_raters = user_similarities.loc[target_user][target_movie_ratings.index]\n",
    "similar_raters = similar_raters[similar_raters.index != target_user]\n",
    "knns = similar_raters.sort_values(ascending=False)[:10]\n",
    "knns.head()"
   ]
  },
  {
   "cell_type": "markdown",
   "metadata": {},
   "source": [
    "Compute $\\sum_{v \\in N_i(u)} |w_{uv}|$, which normalizes the predicted value to be within the valid range, e.g., 0 and 5."
   ]
  },
  {
   "cell_type": "code",
   "execution_count": 21,
   "metadata": {},
   "outputs": [
    {
     "data": {
      "text/plain": [
       "3.5631419799367703"
      ]
     },
     "execution_count": 21,
     "metadata": {},
     "output_type": "execute_result"
    }
   ],
   "source": [
    "knn_weight_sum = sum(knns.apply(lambda x: abs(x)))\n",
    "knn_weight_sum"
   ]
  },
  {
   "cell_type": "markdown",
   "metadata": {},
   "source": [
    "Lets compute $\\sum_{v \\in N_i(u)} w_{uv} (r_{vi} - \\bar{r_v})$. Here a raw rating $r_{ui}$ is centered to mean by subtracting $r_{vi}$ from $\\bar{r_v}$, which is average of the ratings given by user $u$ to the items in $I_v$."
   ]
  },
  {
   "cell_type": "code",
   "execution_count": 22,
   "metadata": {},
   "outputs": [
    {
     "data": {
      "text/plain": [
       "userid\n",
       "889    3.334126\n",
       "643    2.542212\n",
       "276    2.932818\n",
       "303    4.031510\n",
       "592    4.183710\n",
       "493    2.698573\n",
       "537    4.165279\n",
       "758    4.177170\n",
       "144    2.549941\n",
       "345    4.497027\n",
       "Name: 262, dtype: float64"
      ]
     },
     "execution_count": 22,
     "metadata": {},
     "output_type": "execute_result"
    }
   ],
   "source": [
    "knn_ratings = target_movie_ratings[knns.index]\n",
    "for index, neighbor_rating in knn_ratings.iteritems():\n",
    "    knn_ratings.loc[index] = neighbor_rating - np.mean(movie_ratings_test.loc[index])\n",
    "knn_ratings"
   ]
  },
  {
   "cell_type": "markdown",
   "metadata": {},
   "source": [
    "Finally, we compute $r_{ui} = \\bar{r_{u}} + \\frac{\\sum_{v \\in N_i(u)} w_{uv} (r_{vi} - \\bar{r_v})}{\\sum_{v \\in N_i(u)} |w_{uv}|}$."
   ]
  },
  {
   "cell_type": "code",
   "execution_count": 23,
   "metadata": {},
   "outputs": [
    {
     "data": {
      "text/plain": [
       "4.0701742369885689"
      ]
     },
     "execution_count": 23,
     "metadata": {},
     "output_type": "execute_result"
    }
   ],
   "source": [
    "target_movie_rating_predicted = np.mean(movie_ratings_test.loc[target_user]) + knn_ratings.dot(knns)/knn_weight_sum\n",
    "target_movie_rating_predicted"
   ]
  },
  {
   "cell_type": "markdown",
   "metadata": {},
   "source": [
    "How much off is the rating?"
   ]
  },
  {
   "cell_type": "code",
   "execution_count": 24,
   "metadata": {},
   "outputs": [
    {
     "data": {
      "text/plain": [
       "1.0701742369885689"
      ]
     },
     "execution_count": 24,
     "metadata": {},
     "output_type": "execute_result"
    }
   ],
   "source": [
    "target_movie_rating_predicted - target_movie_rating"
   ]
  },
  {
   "cell_type": "markdown",
   "metadata": {},
   "source": [
    "Lets assemble all of these together in a function."
   ]
  },
  {
   "cell_type": "code",
   "execution_count": 25,
   "metadata": {},
   "outputs": [],
   "source": [
    "def predict_movie_rating(target_user: int, \n",
    "                         target_movie: int, \n",
    "                         movie_ratings: pd.DataFrame, \n",
    "                         similarities: pd.DataFrame, k:int=10) -> float:\n",
    "    \"\"\"Compute rating prediction for a movie\"\"\"\n",
    "    # Get everyone who rate the movie\n",
    "    target_movie_ratings = movie_ratings[target_movie]\n",
    "    \n",
    "    # Eliminate everyone who has not rated the movie\n",
    "    target_movie_ratings = target_movie_ratings[target_movie_ratings != 0]\n",
    "    \n",
    "    # Eliminate the target user\n",
    "    target_movie_ratings = target_movie_ratings[target_movie_ratings.index != target_user]\n",
    "    \n",
    "    # If there is no rating, there is no point going forward, just return a zero rating\n",
    "    if len(target_movie_ratings.index) == 0:\n",
    "        return 0.0\n",
    "    \n",
    "    # Find similarities of users who rated the movie\n",
    "    similar_raters = similarities.loc[target_user][target_movie_ratings.index]\n",
    "    \n",
    "    # Pick top k similar raters\n",
    "    knns = similar_raters.sort_values(ascending=False)[:k]\n",
    "    \n",
    "    # pick ratings of top k similar raters\n",
    "    knn_ratings = target_movie_ratings[knns.index]\n",
    "    \n",
    "    # normalize ratings of top k similar raters by their average rating\n",
    "    for index, neighbor_rating in knn_ratings.iteritems():\n",
    "        knn_ratings.loc[index] = neighbor_rating - np.mean(movie_ratings.loc[index])\n",
    "    \n",
    "    # compute predicated rating. Make sure to normalize.\n",
    "    predicted_rating = np.mean(movie_ratings.loc[target_user]) + (knn_ratings.dot(knns)/sum(knns.values))\n",
    "    return predicted_rating\n",
    "\n",
    "assert predict_movie_rating(405, 1570, movie_ratings_test, user_similarities) == 0\n",
    "assert round(predict_movie_rating(474, 124, movie_ratings_test, user_similarities), 2) == 4.41"
   ]
  },
  {
   "cell_type": "code",
   "execution_count": 26,
   "metadata": {},
   "outputs": [
    {
     "name": "stdout",
     "output_type": "stream",
     "text": [
      "1 1 262 3\n",
      "Predicted rating 4.07017423699\n"
     ]
    }
   ],
   "source": [
    "user_index = 0  \n",
    "movie_rank = 1 \n",
    "target_user = list(ground_truths.keys())[user_index]\n",
    "target_movie = ground_truths[target_user][movie_rank-1][0]\n",
    "target_movie_rating = ground_truths[target_user][movie_rank-1][1]\n",
    "print (target_user, movie_rank, target_movie, target_movie_rating)\n",
    "\n",
    "print (\"Predicted rating\", predict_movie_rating(target_user=target_user, \n",
    "                     target_movie=target_movie, \n",
    "                     movie_ratings=movie_ratings_test, \n",
    "                     similarities=user_similarities))"
   ]
  },
  {
   "cell_type": "markdown",
   "metadata": {},
   "source": [
    "Cool! it matches our previous calculation. Lets do this for a set of movies for a user"
   ]
  },
  {
   "cell_type": "code",
   "execution_count": 27,
   "metadata": {},
   "outputs": [
    {
     "name": "stdout",
     "output_type": "stream",
     "text": [
      "Target user: 1\n",
      "Movie: 262, Actual Rating: 3, Predicted Rating: 4.070174236988569\n",
      "Movie: 249, Actual Rating: 4, Predicted Rating: 3.6136583006006027\n",
      "Movie: 78, Actual Rating: 1, Predicted Rating: 2.3122252660483573\n",
      "Movie: 184, Actual Rating: 4, Predicted Rating: 3.467302751956101\n",
      "Movie: 153, Actual Rating: 3, Predicted Rating: 3.907575253354994\n",
      "Movie: 254, Actual Rating: 1, Predicted Rating: 2.270356096153623\n",
      "Movie: 98, Actual Rating: 4, Predicted Rating: 4.62362183501543\n",
      "Movie: 15, Actual Rating: 5, Predicted Rating: 3.865740415210086\n",
      "Movie: 39, Actual Rating: 4, Predicted Rating: 3.0177665257555013\n",
      "Movie: 26, Actual Rating: 3, Predicted Rating: 3.5637419199592024\n",
      "Movie: 9, Actual Rating: 5, Predicted Rating: 4.429231019292403\n",
      "Movie: 73, Actual Rating: 3, Predicted Rating: 3.341645037203638\n",
      "Movie: 108, Actual Rating: 5, Predicted Rating: 2.8977005924257777\n",
      "Movie: 217, Actual Rating: 3, Predicted Rating: 3.1069571929854978\n"
     ]
    }
   ],
   "source": [
    "user_index = 0  \n",
    "target_user = list(ground_truths.keys())[user_index]\n",
    "print (\"Target user: {}\".format(target_user))\n",
    "for target_movie, target_movie_rating in ground_truths[target_user]:\n",
    "    predicted_rating = predict_movie_rating(target_user=target_user, \n",
    "                                            target_movie=target_movie, \n",
    "                                            movie_ratings=movie_ratings_test, \n",
    "                                            similarities=user_similarities)\n",
    "    print (\"Movie: {}, Actual Rating: {}, Predicted Rating: {}\".format(target_movie, target_movie_rating, predicted_rating))"
   ]
  },
  {
   "cell_type": "markdown",
   "metadata": {},
   "source": [
    "Lets compute the performance for these predictions. First, lets create the function to do it. It is an implementation of root mean square error, which uses the mean square error from scikit learn."
   ]
  },
  {
   "cell_type": "code",
   "execution_count": 28,
   "metadata": {
    "collapsed": true
   },
   "outputs": [],
   "source": [
    "rms = lambda y_actual, y_predicted: sqrt(mean_squared_error(y_actual, y_predicted))"
   ]
  },
  {
   "cell_type": "code",
   "execution_count": 29,
   "metadata": {},
   "outputs": [
    {
     "name": "stdout",
     "output_type": "stream",
     "text": [
      "Target user: 1\n",
      "Error (root mean squared): 0.9845002181933586\n"
     ]
    }
   ],
   "source": [
    "user_index = 0  \n",
    "target_user = list(ground_truths.keys())[user_index]\n",
    "print (\"Target user: {}\".format(target_user))\n",
    "\n",
    "ratings_actual = [target_movie_rating for _, target_movie_rating in ground_truths[target_user]]\n",
    "ratings_predicted = [predict_movie_rating(target_user=target_user,\n",
    "                                          target_movie=target_movie,\n",
    "                                          movie_ratings=movie_ratings_test,\n",
    "                                          similarities=user_similarities)\n",
    "                     for target_movie, target_movie_rating in ground_truths[target_user]]\n",
    "error = rms(y_actual=ratings_actual, y_predicted=ratings_predicted)\n",
    "print (\"Error (root mean squared): {}\".format(error))"
   ]
  },
  {
   "cell_type": "markdown",
   "metadata": {},
   "source": [
    "Lets try this for our entire ground truth"
   ]
  },
  {
   "cell_type": "code",
   "execution_count": 30,
   "metadata": {},
   "outputs": [
    {
     "data": {
      "text/plain": [
       "1.0081120699945132"
      ]
     },
     "execution_count": 30,
     "metadata": {},
     "output_type": "execute_result"
    }
   ],
   "source": [
    "ratings_actual_global = []\n",
    "ratings_predicted_global = []\n",
    "for target_user, ratings in ground_truths.items():\n",
    "    \n",
    "    ratings_actual = [target_movie_rating for _, target_movie_rating in ratings]\n",
    "    ratings_predicted = [predict_movie_rating(target_user=target_user,\n",
    "                                              target_movie=target_movie,\n",
    "                                              movie_ratings=movie_ratings_test,\n",
    "                                              similarities=user_similarities)\n",
    "                         for target_movie, target_movie_rating in ratings]\n",
    "    ratings_actual_global.extend(ratings_actual)\n",
    "    ratings_predicted_global.extend(ratings_predicted)\n",
    "\n",
    "rms(y_actual=ratings_actual_global, y_predicted=ratings_predicted_global)"
   ]
  },
  {
   "cell_type": "markdown",
   "metadata": {},
   "source": [
    "Nice! It looks like our ratings are are off by little less than 1 on average. \n",
    "Our hyper parameter is k neighbors. Lets try different hyper parameters."
   ]
  },
  {
   "cell_type": "code",
   "execution_count": 31,
   "metadata": {},
   "outputs": [
    {
     "data": {
      "text/plain": [
       "[(5, 1.0473041593927974),\n",
       " (6, 1.0330358753181785),\n",
       " (7, 1.024756230561291),\n",
       " (8, 1.0191370051126383),\n",
       " (9, 1.013253023173646),\n",
       " (10, 1.0081120699945132),\n",
       " (11, 1.005605327328751),\n",
       " (12, 1.0045964639625087),\n",
       " (13, 1.0025288211348373),\n",
       " (14, 1.0022217711195578),\n",
       " (15, 1.0003791916936462),\n",
       " (16, 1.0000309987694282),\n",
       " (17, 0.999514177762319),\n",
       " (18, 0.999648795656534),\n",
       " (19, 0.9983629829236544),\n",
       " (20, 0.9977268665436043)]"
      ]
     },
     "execution_count": 31,
     "metadata": {},
     "output_type": "execute_result"
    }
   ],
   "source": [
    "def evaluate(k=10, test_set=ground_truths, movie_ratings=movie_ratings_test, similarities=user_similarities):\n",
    "    ratings_actual_global = []\n",
    "    ratings_predicted_global = []\n",
    "    for target_user, ratings in test_set.items():\n",
    "    \n",
    "        ratings_actual = [target_movie_rating for _, target_movie_rating in ratings]\n",
    "        ratings_predicted = [predict_movie_rating(target_user=target_user,\n",
    "                                                  target_movie=target_movie,\n",
    "                                                  movie_ratings=movie_ratings_test,\n",
    "                                                  similarities=user_similarities, \n",
    "                                                  k=k)\n",
    "                             for target_movie, target_movie_rating in ratings]\n",
    "        ratings_actual_global.extend(ratings_actual)\n",
    "        ratings_predicted_global.extend(ratings_predicted)\n",
    "\n",
    "    error = rms(y_actual=ratings_actual_global, y_predicted=ratings_predicted_global)\n",
    "    return k, error\n",
    "\n",
    "k_set = range(5, 21)\n",
    "\n",
    "k_evaluations = [] \n",
    "for k in k_set:\n",
    "    evaluation = evaluate(k)\n",
    "    k_evaluations.append(evaluation)\n",
    "k_evaluations"
   ]
  },
  {
   "cell_type": "code",
   "execution_count": 34,
   "metadata": {},
   "outputs": [
    {
     "data": {
      "image/png": "[encoded data removed]",
      "text/plain": [
       "<matplotlib.figure.Figure at 0xea87630>"
      ]
     },
     "metadata": {},
     "output_type": "display_data"
    }
   ],
   "source": [
    "x_val = [k for k, _ in k_evaluations]\n",
    "y_val = [error for _, error in k_evaluations]\n",
    "plt.plot(x_val, y_val)\n",
    "plt.plot(x_val, y_val,'or')\n",
    "plt.xlim(5, 20)\n",
    "plt.ylim(0.5, 1.5)\n",
    "plt.show()"
   ]
  },
  {
   "cell_type": "code",
   "execution_count": null,
   "metadata": {
    "collapsed": true
   },
   "outputs": [],
   "source": []
  }
 ],
 "metadata": {
  "kernelspec": {
   "display_name": "Python 3",
   "language": "python",
   "name": "python3"
  },
  "language_info": {
   "codemirror_mode": {
    "name": "ipython",
    "version": 3
   },
   "file_extension": ".py",
   "mimetype": "text/x-python",
   "name": "python",
   "nbconvert_exporter": "python",
   "pygments_lexer": "ipython3",
   "version": "3.6.3"
  }
 },
 "nbformat": 4,
 "nbformat_minor": 2
}
